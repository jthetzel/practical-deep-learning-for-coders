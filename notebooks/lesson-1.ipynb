{
  "nbformat": 4,
  "nbformat_minor": 0,
  "metadata": {
    "colab": {
      "name": "lesson-1.ipynb",
      "provenance": [],
      "include_colab_link": true
    },
    "kernelspec": {
      "name": "python3",
      "display_name": "Python 3"
    }
  },
  "cells": [
    {
      "cell_type": "markdown",
      "metadata": {
        "id": "view-in-github",
        "colab_type": "text"
      },
      "source": [
        "<a href=\"https://colab.research.google.com/github/jthetzel/practical-deep-learning-for-coders/blob/master/notebooks/lesson-1.ipynb\" target=\"_parent\"><img src=\"https://colab.research.google.com/assets/colab-badge.svg\" alt=\"Open In Colab\"/></a>"
      ]
    },
    {
      "cell_type": "markdown",
      "metadata": {
        "id": "4DFjGNZwH0PG",
        "colab_type": "text"
      },
      "source": [
        "Mount Google Drive and sync with GitHub repository.\n",
        "https://zerowithdot.com/colab-github-workflow/"
      ]
    },
    {
      "cell_type": "code",
      "metadata": {
        "id": "uWIYdpoNHzFT",
        "colab_type": "code",
        "colab": {
          "base_uri": "https://localhost:8080/",
          "height": 68
        },
        "outputId": "1ea11d83-1f97-477c-dcbc-14bb6386b582"
      },
      "source": [
        "from google.colab import drive\n",
        "from os.path import join\n",
        "\n",
        "GIT_USERNAME = \"jthetzel\"\n",
        "# GIT_TOKEN = \"XXX\"   \n",
        "GIT_REPOSITORY = \"practical-deep-learning-for-coders\"\n",
        "ROOT = '/content/drive'     # default for the drive\n",
        "PROJ = f'My Drive/fastai/{GIT_REPOSITORY}'       # path to your project on Drive\n",
        "PROJECT_PATH = join(ROOT, PROJ)\n",
        "GIT_PATH = f\"https://github.com/{GIT_USERNAME}/{GIT_REPOSITORY}.git\"\n",
        "\n",
        "drive.mount(ROOT)           # we mount the drive at /content/drive\n",
        "\n",
        "!mkdir -p \"{PROJECT_PATH}\"\n",
        "!git clone \"{GIT_PATH}\" \"{GIT_REPOSITORY}\" 2> /dev/null || git -C \"{GIT_REPOSITORY}\" pull\n",
        "!rsync -aP --exclude=data/ \"{PROJECT_PATH}\"/  ./\n"
      ],
      "execution_count": 25,
      "outputs": [
        {
          "output_type": "stream",
          "text": [
            "Drive already mounted at /content/drive; to attempt to forcibly remount, call drive.mount(\"/content/drive\", force_remount=True).\n",
            "Already up to date.\n",
            "sending incremental file list\n"
          ],
          "name": "stdout"
        }
      ]
    }
  ]
}